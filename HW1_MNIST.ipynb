{
 "cells": [
  {
   "cell_type": "markdown",
   "metadata": {},
   "source": [
    "### 网络组件的定义\n",
    "首先创建线性全连接层、ReLU激活函数、SoftMax交叉熵损失函数的类方法，类方法中定义正向传播与反向传播的函数计算。"
   ]
  },
  {
   "cell_type": "code",
   "execution_count": 29,
   "metadata": {},
   "outputs": [],
   "source": [
    "import numpy as np\n",
    "\n",
    "# 线性全连接层\n",
    "class Linear:\n",
    "    def __init__(self,w,b):\n",
    "        self.W=w\n",
    "        self.b=b\n",
    "        self.x=None\n",
    "        self.dW=None\n",
    "        self.db=None\n",
    "        \n",
    "    def forward(self,x):\n",
    "        self.x=x\n",
    "        out=self.x.dot(self.W)+self.b\n",
    "        return out\n",
    "    \n",
    "    def backward(self,dout):\n",
    "        dx=dout.dot(self.W.T)\n",
    "        self.dW=self.x.T.dot(dout)\n",
    "        self.db=np.sum(dout,axis=0)\n",
    "        return dx\n",
    "\n",
    "# ReLU激活函数\n",
    "class ReLU:\n",
    "    def __init__(self):\n",
    "        self.out=None\n",
    "        \n",
    "    def forward(self,x):\n",
    "        mask=(x<=0)\n",
    "        self.mask=mask\n",
    "        out=x.copy()\n",
    "        out[mask]=0\n",
    "        return out\n",
    "    \n",
    "    def backward(self,dout):\n",
    "        dout[self.mask]=0\n",
    "        return dout\n",
    "    \n",
    "# SoftMax交叉熵损失函数\n",
    "def softmax(x):\n",
    "    if x.ndim==2:\n",
    "        x=x.T\n",
    "        x=x-np.max(x,axis=0)    # 防止溢出\n",
    "        y=np.exp(x)/np.sum(np.exp(x),axis=0)\n",
    "        return y.T\n",
    "    \n",
    "    x=x-np.max(x)\n",
    "    y=np.exp(x)/np.sum(np.exp(x))\n",
    "    return y\n",
    "               \n",
    "def cross_entropy_error(y, t):  # y为预测标签，t为真实标签\n",
    "    if y.ndim == 1:\n",
    "        t = t.reshape(1, t.size)\n",
    "        y = y.reshape(1, y.size)\n",
    "        \n",
    "    if t.size == y.size:\n",
    "        t  = t.argmax(axis=1)\n",
    "\n",
    "    return -np.sum(np.log(y[np.arange(y.shape[0]), t] + 1e-7)) / batch_size\n",
    "               \n",
    "class SoftMaxLoss:\n",
    "    def __init__(self):\n",
    "        self.loss=None\n",
    "        self.y=None\n",
    "        self.t=None\n",
    "        \n",
    "    def forward(self,x,t):  # y为预测标签，t为真实标签\n",
    "        self.t=t\n",
    "        self.y=softmax(x)\n",
    "        self.loss=cross_entropy_error(self.y,self.t)\n",
    "        return self.loss\n",
    "    \n",
    "    def backward(self,dout=1):\n",
    "        batchsize=self.t.shape[0]\n",
    "        dx=(self.y-self.t)/batchsize\n",
    "        return dx"
   ]
  },
  {
   "cell_type": "markdown",
   "metadata": {},
   "source": [
    "### 网络结构搭建\n",
    "创建双层神经网络的结构，网络结构为全连接层-ReLU激活-全连接层，超参数为输入维度、隐藏层大小、输出维度，待估参数为两个线性全连接层的四个参数向量。"
   ]
  },
  {
   "cell_type": "code",
   "execution_count": 30,
   "metadata": {},
   "outputs": [],
   "source": [
    "from collections import OrderedDict\n",
    "\n",
    "# 定义双层神经网络\n",
    "class TwoLayerNet:\n",
    "    def __init__(self,input_size,hidden_size,output_size,weight_init_std=0.01):\n",
    "        # 初始化权重\n",
    "        self.params={}\n",
    "        self.params['W1']=weight_init_std*np.random.randn(input_size,hidden_size)\n",
    "        self.params['b1']=np.zeros(hidden_size)\n",
    "        self.params['W2']=weight_init_std*np.random.randn(hidden_size,output_size)\n",
    "        self.params['b2']=np.zeros(output_size)\n",
    "        \n",
    "        # 搭建各个层\n",
    "        self.layers=OrderedDict()\n",
    "        self.layers['Linear1']=Linear(self.params['W1'],self.params['b1'])\n",
    "        self.layers['ReLU']=ReLU()\n",
    "        self.layers['Linear2']=Linear(self.params['W2'],self.params['b2'])\n",
    "        self.Loss=SoftMaxLoss()\n",
    "    \n",
    "    # 正向传播\n",
    "    def predict(self,x):\n",
    "        for layer in self.layers.values():\n",
    "            x=layer.forward(x)\n",
    "        return x\n",
    "    \n",
    "    def loss(self,x,t):  # y为预测标签，t为真实标签\n",
    "        y=self.predict(x)\n",
    "        return self.Loss.forward(y,t)    \n",
    "    \n",
    "    def accuracy(self,x,t):  # y为预测标签，t为真实标签\n",
    "        y=self.predict(x)\n",
    "        y=np.argmax(y,axis=1)    \n",
    "        if t.ndim!=1:\n",
    "            t=np.argmax(t,axis=1)\n",
    "        accuracy=np.sum(y==t)/float(x.shape[0])\n",
    "        return accuracy\n",
    "    \n",
    "    # 梯度计算与反向传播\n",
    "    def gradient(self,x,t):  # y为预测标签，t为真实标签\n",
    "        self.loss(x,t)\n",
    "        \n",
    "        dout=1\n",
    "        dout=self.Loss.backward(dout)\n",
    "        layers=list(self.layers.values())\n",
    "        layers.reverse()\n",
    "        \n",
    "        # 反向传播\n",
    "        for layer in layers:\n",
    "            dout=layer.backward(dout)\n",
    "            \n",
    "        grads={}\n",
    "        grads['W1']=self.layers['Linear1'].dW\n",
    "        grads['b1']=self.layers['Linear1'].db\n",
    "        grads['W2']=self.layers['Linear2'].dW\n",
    "        grads['b2']=self.layers['Linear2'].db\n",
    "        \n",
    "        return grads"
   ]
  },
  {
   "cell_type": "markdown",
   "metadata": {},
   "source": [
    "### 模型训练\n",
    "使用《深度学习入门：基于Python的理论与实现》一书的dataset文件库读入MNIST数据，超参数设定如下：输入维度为784，隐藏层大小为50，输出维度为10，每个batch为100个样本，每个epoch迭代10000次，采用梯度下降的方法进行参数迭代，梯度下降的学习率为0.1。"
   ]
  },
  {
   "cell_type": "code",
   "execution_count": 31,
   "metadata": {},
   "outputs": [],
   "source": [
    "import os, sys\n",
    "\n",
    "sys.path.append(os.pardir)\n",
    "from dataset.mnist import load_mnist\n",
    "\n",
    "# 读入数据\n",
    "(x_train,t_train),(x_test,t_test)=load_mnist(normalize=True,one_hot_label=True)\n",
    "\n",
    "network=TwoLayerNet(input_size=784,hidden_size=50,output_size=10,)\n",
    "\n",
    "# 训练的一些超参数\n",
    "iters_num=10000\n",
    "train_size=x_train.shape[0]\n",
    "batch_size=100\n",
    "learning_rate=0.1\n",
    "\n",
    "train_loss=[]\n",
    "train_acc_list=[]\n",
    "test_acc_list=[]\n",
    "\n",
    "iter_per_epoch=max(iters_num/batch_size,1)    \n",
    "\n",
    "# 采用mini-batch方法训练\n",
    "for iter in range(iters_num):\n",
    "    batch_mask=np.random.choice(train_size,batch_size)\n",
    "    x_batch=x_train[batch_mask]\n",
    "    t_batch=t_train[batch_mask]\n",
    "    \n",
    "    # 计算梯度\n",
    "    grads=network.gradient(x_batch,t_batch)\n",
    "    \n",
    "    # 梯度下降法更新权重\n",
    "    for key in ['W1','b1','W2','b2']:\n",
    "        network.params[key]-=learning_rate*grads[key]\n",
    "        \n",
    "    # 损失计算\n",
    "    loss=network.loss(x_batch,t_batch)\n",
    "    train_loss.append(loss)\n",
    "    \n",
    "    if iter%iter_per_epoch==0:\n",
    "        train_acc=network.accuracy(x_train,t_train)\n",
    "        test_acc=network.accuracy(x_test,t_test)\n",
    "        train_acc_list.append(train_acc)\n",
    "        test_acc_list.append(test_acc)"
   ]
  },
  {
   "cell_type": "markdown",
   "metadata": {},
   "source": [
    "### 模型评价\n",
    "训练的损失曲线"
   ]
  },
  {
   "cell_type": "code",
   "execution_count": 32,
   "metadata": {},
   "outputs": [
    {
     "data": {
      "text/plain": [
       "Text(0, 0.5, 'loss in train')"
      ]
     },
     "execution_count": 32,
     "metadata": {},
     "output_type": "execute_result"
    },
    {
     "data": {
      "image/png": "[encoded data removed]",
      "text/plain": [
       "<Figure size 576x432 with 1 Axes>"
      ]
     },
     "metadata": {
      "needs_background": "light"
     },
     "output_type": "display_data"
    }
   ],
   "source": [
    "import matplotlib.pyplot as plt\n",
    "\n",
    "plt.figure(figsize=(8,6))\n",
    "plt.plot(np.array(train_loss))\n",
    "plt.xlabel('iter num')\n",
    "plt.ylabel('loss in train')"
   ]
  },
  {
   "cell_type": "markdown",
   "metadata": {},
   "source": [
    "训练的精度曲线"
   ]
  },
  {
   "cell_type": "code",
   "execution_count": 33,
   "metadata": {},
   "outputs": [
    {
     "data": {
      "text/plain": [
       "Text(0, 0.5, 'acc in train')"
      ]
     },
     "execution_count": 33,
     "metadata": {},
     "output_type": "execute_result"
    },
    {
     "data": {
      "image/png": "[encoded data removed]",
      "text/plain": [
       "<Figure size 576x432 with 1 Axes>"
      ]
     },
     "metadata": {
      "needs_background": "light"
     },
     "output_type": "display_data"
    }
   ],
   "source": [
    "plt.figure(figsize=(8,6))\n",
    "plt.plot(np.array(train_acc_list))\n",
    "plt.xlabel('iter num')\n",
    "plt.ylabel('acc in train')"
   ]
  },
  {
   "cell_type": "markdown",
   "metadata": {},
   "source": [
    "测试的精度曲线"
   ]
  },
  {
   "cell_type": "code",
   "execution_count": 34,
   "metadata": {},
   "outputs": [
    {
     "data": {
      "text/plain": [
       "Text(0, 0.5, 'acc in test')"
      ]
     },
     "execution_count": 34,
     "metadata": {},
     "output_type": "execute_result"
    },
    {
     "data": {
      "image/png": "[encoded data removed]",
      "text/plain": [
       "<Figure size 720x576 with 1 Axes>"
      ]
     },
     "metadata": {
      "needs_background": "light"
     },
     "output_type": "display_data"
    }
   ],
   "source": [
    "plt.figure(figsize=(10,8))\n",
    "plt.plot(np.array(test_acc_list))\n",
    "plt.xlabel('iter num')\n",
    "plt.ylabel('acc in test')"
   ]
  },
  {
   "cell_type": "markdown",
   "metadata": {},
   "source": [
    "测试集精度"
   ]
  },
  {
   "cell_type": "code",
   "execution_count": 35,
   "metadata": {},
   "outputs": [
    {
     "data": {
      "text/plain": [
       "0.9701"
      ]
     },
     "execution_count": 35,
     "metadata": {},
     "output_type": "execute_result"
    }
   ],
   "source": [
    "network.accuracy(x_test, t_test)"
   ]
  },
  {
   "cell_type": "code",
   "execution_count": 37,
   "metadata": {},
   "outputs": [],
   "source": [
    "# 保存训练好的模型\n",
    "import pickle\n",
    "pickle.dump(network, open(\"TwoLayerNet.dat\", \"wb\"))"
   ]
  },
  {
   "cell_type": "markdown",
   "metadata": {},
   "source": [
    "百度网盘链接：https://pan.baidu.com/s/1-FO-KlOfyq5vv5MmR6hFmA?pwd=4tb1"
   ]
  }
 ],
 "metadata": {
  "kernelspec": {
   "display_name": "Python 3",
   "language": "python",
   "name": "python3"
  },
  "language_info": {
   "codemirror_mode": {
    "name": "ipython",
    "version": 3
   },
   "file_extension": ".py",
   "mimetype": "text/x-python",
   "name": "python",
   "nbconvert_exporter": "python",
   "pygments_lexer": "ipython3",
   "version": "3.8.5"
  }
 },
 "nbformat": 4,
 "nbformat_minor": 4
}
